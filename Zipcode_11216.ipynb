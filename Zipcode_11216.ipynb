{
 "cells": [
  {
   "cell_type": "code",
   "execution_count": null,
   "id": "dd6b12fc",
   "metadata": {},
   "outputs": [],
   "source": [
    "import warnings\n",
    "warnings.filterwarnings('ignore')\n",
    "import numpy as np\n",
    "import pandas as pd\n",
    "import matplotlib.pyplot as plt\n",
    "import itertools\n",
    "import statsmodels.api as sm\n",
    "from statsmodels.tsa.stattools import adfuller\n",
    "from statsmodels.graphics.tsaplots import plot_acf, plot_pacf\n",
    "from statsmodels.tsa.seasonal import seasonal_decompose \n",
    "from statsmodels.tsa.statespace.sarimax import SARIMAX\n",
    "from matplotlib.pylab import rcParams\n",
    "from statsmodels.tsa.seasonal import seasonal_decompose"
   ]
  },
  {
   "cell_type": "code",
   "execution_count": null,
   "id": "0f870f62",
   "metadata": {},
   "outputs": [],
   "source": [
    "pd.set_option('display.max_columns',None)"
   ]
  },
  {
   "cell_type": "code",
   "execution_count": null,
   "id": "9845c016",
   "metadata": {},
   "outputs": [],
   "source": [
    "df = pd.read_csv('zillow_data.csv')\n",
    "df"
   ]
  },
  {
   "cell_type": "code",
   "execution_count": null,
   "id": "b42f8de6",
   "metadata": {},
   "outputs": [],
   "source": [
    "df = df.rename(columns={'RegionName': 'Zipcode'})"
   ]
  },
  {
   "cell_type": "code",
   "execution_count": null,
   "id": "33899d1b",
   "metadata": {},
   "outputs": [],
   "source": [
    "def melt_data(df):\n",
    "    \"\"\"\n",
    "    Takes the zillow_data dataset in wide form or a subset of the zillow_dataset.  \n",
    "    Returns a long-form datetime dataframe \n",
    "    with the datetime column names as the index and the values as the 'values' column.\n",
    "    \n",
    "    If more than one row is passes in the wide-form dataset, the values column\n",
    "    will be the mean of the values from the datetime columns in all of the rows.\n",
    "    \"\"\"\n",
    "    \n",
    "    melted = pd.melt(df, id_vars=['RegionID', 'SizeRank', 'Zipcode', 'RegionType', 'StateName', 'State', 'City', 'Metro', 'CountyName'], var_name='time')\n",
    "    melted['time'] = pd.to_datetime(melted['time'], infer_datetime_format=True)\n",
    "    melted = melted.dropna(subset=['value'])\n",
    "    return melted.groupby('time').aggregate({'value':'mean'})"
   ]
  },
  {
   "cell_type": "code",
   "execution_count": null,
   "id": "9061d0a8",
   "metadata": {},
   "outputs": [],
   "source": [
    "df_11216 = melt_data(df[df['Zipcode'] == 11216])"
   ]
  },
  {
   "cell_type": "code",
   "execution_count": null,
   "id": "bc03a41a",
   "metadata": {},
   "outputs": [],
   "source": [
    "df_11216.plot(figsize=(20,6));"
   ]
  },
  {
   "cell_type": "markdown",
   "id": "cd115f45",
   "metadata": {},
   "source": [
    "# Baseline Model"
   ]
  },
  {
   "cell_type": "code",
   "execution_count": null,
   "id": "206586c5",
   "metadata": {},
   "outputs": [],
   "source": [
    "naive = df_11216.shift(1)\n",
    "naive\n",
    "from sklearn.metrics import mean_squared_error\n",
    "np.sqrt(mean_squared_error(df_11216[1:], naive.dropna()))"
   ]
  },
  {
   "cell_type": "code",
   "execution_count": null,
   "id": "592eddcd",
   "metadata": {},
   "outputs": [],
   "source": [
    "fig, ax = plt.subplots(figsize=(11, 5))\n",
    "\n",
    "df_11216[0:30].plot(ax=ax, c='r', label='original')\n",
    "naive[0:30].plot(ax=ax, c='b', label='shifted')\n",
    "ax.set_title('naive')\n",
    "ax.legend();"
   ]
  },
  {
   "cell_type": "code",
   "execution_count": null,
   "id": "f12a6052",
   "metadata": {},
   "outputs": [],
   "source": [
    "dftest = adfuller(naive.dropna())\n",
    "print ('Results of Dickey-Fuller Test:')\n",
    "\n",
    "dfoutput = pd.Series(dftest[0:4],\n",
    "                     index=['Test Statistic', 'p-value', '#Lags Used',\n",
    "                            'Number of Observations Used'])\n",
    "for key,value in dftest[4].items():\n",
    "    dfoutput['Critical Value (%s)'%key] = value\n",
    "print (dfoutput)"
   ]
  },
  {
   "cell_type": "markdown",
   "id": "9a05e8b6",
   "metadata": {},
   "source": [
    "# Modeling"
   ]
  },
  {
   "cell_type": "code",
   "execution_count": null,
   "id": "409b0242",
   "metadata": {},
   "outputs": [],
   "source": [
    "from statsmodels.tsa.stattools import adfuller\n",
    "import numpy as np\n",
    "\n",
    "dftest = adfuller(df_11216)\n",
    "\n",
    "dfoutput = pd.Series(\n",
    "                dftest[0:4], \n",
    "                index=['Test Statistic','p-value','#Lags Used','Number of Observations Used']\n",
    ")\n",
    "\n",
    "for key,value in dftest[4].items():\n",
    "    dfoutput['Critical Value (%s)'%key] = value\n",
    "    \n",
    "display(dfoutput)"
   ]
  },
  {
   "cell_type": "markdown",
   "id": "6b9b6371",
   "metadata": {},
   "source": [
    "The test shows the p-value is higher than 0.5 which means we fail to reject the null hypothesis and the model is non-stationary"
   ]
  },
  {
   "cell_type": "markdown",
   "id": "c84ec38f",
   "metadata": {},
   "source": [
    "## Seasonality"
   ]
  },
  {
   "cell_type": "markdown",
   "id": "2520a0b2",
   "metadata": {},
   "source": [
    "Checking for trends, seasonality, and residuals "
   ]
  },
  {
   "cell_type": "code",
   "execution_count": null,
   "id": "527a4ec5",
   "metadata": {},
   "outputs": [],
   "source": [
    "from statsmodels.tsa.seasonal import seasonal_decompose\n",
    "import matplotlib.pyplot as plt\n",
    "\n",
    "decomposition = seasonal_decompose(df_11216)\n",
    "\n",
    "# Gather the trend, seasonality and noise of decomposed object\n",
    "trend = decomposition.trend\n",
    "seasonal = decomposition.seasonal\n",
    "residual = decomposition.resid\n",
    "\n",
    "# Plot gathered statistics\n",
    "plt.figure(figsize=(12, 8))\n",
    "plt.subplot(411)\n",
    "plt.plot(df_11216, label='Original')\n",
    "plt.legend(loc='upper left')\n",
    "plt.subplot(412)\n",
    "plt.plot(trend, label='Trend')\n",
    "plt.legend(loc='upper left')\n",
    "plt.subplot(413)\n",
    "plt.plot(seasonal,label='Seasonality')\n",
    "plt.legend(loc='upper left')\n",
    "plt.subplot(414)\n",
    "plt.plot(residual, label='Residuals')\n",
    "plt.legend(loc='upper left')\n",
    "plt.tight_layout()"
   ]
  },
  {
   "cell_type": "markdown",
   "id": "520d7564",
   "metadata": {},
   "source": [
    "This dataframe contains seasonality and an upward trend"
   ]
  },
  {
   "cell_type": "markdown",
   "id": "0396664e",
   "metadata": {},
   "source": [
    "## Differencing"
   ]
  },
  {
   "cell_type": "markdown",
   "id": "a3ed2201",
   "metadata": {},
   "source": [
    "The difference is taken to make the model stationary"
   ]
  },
  {
   "cell_type": "code",
   "execution_count": null,
   "id": "b89e89ec",
   "metadata": {},
   "outputs": [],
   "source": [
    "diff = df_11216.diff().diff().dropna()\n",
    "\n",
    "dftest = adfuller(diff)\n",
    "print ('Results of Dickey-Fuller Test:')\n",
    "\n",
    "dfoutput = pd.Series(dftest[0:4],\n",
    "                     index=['Test Statistic', 'p-value', '#Lags Used',\n",
    "                            'Number of Observations Used'])\n",
    "for key,value in dftest[4].items():\n",
    "    dfoutput['Critical Value (%s)'%key] = value\n",
    "print (dfoutput)"
   ]
  },
  {
   "cell_type": "markdown",
   "id": "070c1775",
   "metadata": {},
   "source": [
    "The p-value is under 0.05, removing the seasonality of the trend"
   ]
  },
  {
   "cell_type": "markdown",
   "id": "57bfa6e7",
   "metadata": {},
   "source": [
    "## Autocorrelation"
   ]
  },
  {
   "cell_type": "code",
   "execution_count": null,
   "id": "a63a04bb",
   "metadata": {},
   "outputs": [],
   "source": [
    "plt.rcParams.update({'figure.figsize':(9,3), 'figure.dpi':120})\n",
    "\n",
    "fig, axes = plt.subplots(1, 2)\n",
    "axes[0].plot(df_11216.diff().diff().dropna()); axes[0].set_title('2nd Differencing')\n",
    "plot_pacf(df_11216.diff().diff().dropna(), ax=axes[1])\n",
    "\n",
    "plt.show()"
   ]
  },
  {
   "cell_type": "code",
   "execution_count": null,
   "id": "73828bee",
   "metadata": {},
   "outputs": [],
   "source": [
    "plt.rcParams.update({'figure.figsize':(9,3), 'figure.dpi':120})\n",
    "\n",
    "fig, axes = plt.subplots(1, 2)\n",
    "axes[0].plot(df_11216.diff().diff().dropna()); axes[0].set_title('2nd Differencing')\n",
    "plot_acf(df_11216.diff().diff().dropna(), ax=axes[1])\n",
    "\n",
    "plt.show()"
   ]
  },
  {
   "cell_type": "markdown",
   "id": "1b2e9eb7",
   "metadata": {},
   "source": [
    "After the second differencing, the data is now stationary as the lags are within the boundaries"
   ]
  },
  {
   "cell_type": "markdown",
   "id": "3cf4dbd7",
   "metadata": {},
   "source": [
    "## SARIMAX Model"
   ]
  },
  {
   "cell_type": "code",
   "execution_count": null,
   "id": "464ae925",
   "metadata": {},
   "outputs": [],
   "source": [
    "import itertools\n",
    "\n",
    "# Define the p, d and q parameters to take any value between 0 and 2\n",
    "p = d = q = range(0, 3)\n",
    "\n",
    "# Generate all different combinations of p, q and q triplets\n",
    "pdq = list(itertools.product(p, d, q))\n",
    "\n",
    "# Generate all different combinations of seasonal p, q and q triplets\n",
    "pdqs = [(x[0], x[1], x[2], 12) for x in list(itertools.product(p, d, q))]"
   ]
  },
  {
   "cell_type": "code",
   "execution_count": null,
   "id": "a2718aa6",
   "metadata": {},
   "outputs": [],
   "source": [
    "# Run a grid with pdq and seasonal pdq parameters calculated above and get the best AIC value\n",
    "ans = []\n",
    "for comb in pdq:\n",
    "    for combs in pdqs:\n",
    "        try:\n",
    "            mod = SARIMAX(df_11216,\n",
    "                         order=comb,\n",
    "                         seasonal_order=combs,\n",
    "                         enforce_stationarity=False,\n",
    "                         enforce_invertibility=False)\n",
    "\n",
    "            output = mod.fit()\n",
    "            ans.append([comb, combs, output.aic])\n",
    "            print('ARIMA {} x {}12 : AIC Calculated ={}'.format(comb, combs, output.aic))\n",
    "        except:\n",
    "            continue"
   ]
  },
  {
   "cell_type": "code",
   "execution_count": null,
   "id": "bc2bd6f7",
   "metadata": {},
   "outputs": [],
   "source": [
    "ans_df = pd.DataFrame(ans, columns=['pdq', 'pdqs', 'aic'])\n",
    "ans_df.loc[ans_df['aic'].idxmin()]"
   ]
  },
  {
   "cell_type": "markdown",
   "id": "847a8d47",
   "metadata": {},
   "source": [
    "From the combination, the lowest AIC score order was order=(0, 2, 2) and seasonal_order = (2,2,2,12). The score is equal to 4134.18389"
   ]
  },
  {
   "cell_type": "markdown",
   "id": "21a2e7e0",
   "metadata": {},
   "source": [
    "Using these hyperparameters, the final model can be built"
   ]
  },
  {
   "cell_type": "code",
   "execution_count": null,
   "id": "c7292590",
   "metadata": {},
   "outputs": [],
   "source": [
    "ARIMA_MODEL = sm.tsa.statespace.SARIMAX(df_11216, \n",
    "                                        order=(0, 2, 2), \n",
    "                                        seasonal_order=(2, 2, 2, 12), \n",
    "                                        enforce_stationarity=False, \n",
    "                                        enforce_invertibility=False)\n",
    "\n",
    "# Fit the model and print results\n",
    "output = ARIMA_MODEL.fit()\n",
    "\n",
    "print(output.summary())"
   ]
  },
  {
   "cell_type": "markdown",
   "id": "03331475",
   "metadata": {},
   "source": [
    "Most of the parameters p-value are under 0.05 with there being two exceptions"
   ]
  },
  {
   "cell_type": "code",
   "execution_count": null,
   "id": "d606fda0",
   "metadata": {},
   "outputs": [],
   "source": [
    "# Call plot_diagnostics() on the results calculated above \n",
    "output.plot_diagnostics(figsize=(15, 18))\n",
    "plt.show()"
   ]
  },
  {
   "cell_type": "markdown",
   "id": "3696f704",
   "metadata": {},
   "source": [
    "Top left: The residuals erros seem to fluctuate around a mean of 0 and have a uniform variance\n",
    "Top Right: Suggests normal distribution with mean zero\n",
    "Bottom left: Most of the dots fall on the line, with a couple of exceptions\n",
    "Bottom right: The ACF plot shows the residual erros are not correlated "
   ]
  },
  {
   "cell_type": "markdown",
   "id": "344cfcd1",
   "metadata": {},
   "source": [
    "## Validating the  model"
   ]
  },
  {
   "cell_type": "markdown",
   "id": "fccb10cd",
   "metadata": {},
   "source": [
    "The last two years will be validated starting from 2019-01-31"
   ]
  },
  {
   "cell_type": "code",
   "execution_count": null,
   "id": "4af4b3e1",
   "metadata": {},
   "outputs": [],
   "source": [
    "# Get predictions starting from 01-31-2019 and calculate confidence intervals\n",
    "pred = output.get_prediction(start=pd.to_datetime('2019-01-31'), dynamic=False)\n",
    "pred_conf = pred.conf_int()"
   ]
  },
  {
   "cell_type": "code",
   "execution_count": null,
   "id": "38dd8584",
   "metadata": {},
   "outputs": [],
   "source": [
    "plt.style.use('ggplot')\n",
    "\n",
    "# Plot real vs predicted values along with confidence interval\n",
    "rcParams['figure.figsize'] = 15, 6\n",
    "\n",
    "# Plot observed values\n",
    "ax = df_11216.plot(label='observed')\n",
    "\n",
    "# Plot predicted values\n",
    "pred.predicted_mean.plot(ax=ax, label='One-step ahead Forecast', alpha=0.9)\n",
    "\n",
    "# Plot the range for confidence intervals\n",
    "ax.fill_between(pred_conf.index,\n",
    "                pred_conf.iloc[:, 0],\n",
    "                pred_conf.iloc[:, 1], color='g', alpha=0.5)\n",
    "\n",
    "# Set axes labels\n",
    "ax.set_xlabel('Date')\n",
    "ax.set_ylabel('Home Values')\n",
    "plt.legend()\n",
    "\n",
    "plt.show()"
   ]
  },
  {
   "cell_type": "markdown",
   "id": "d61eafcb",
   "metadata": {},
   "source": [
    "The forecast aligns with the true values as seen above with the increase in trend\n",
    "\n",
    "Now we check for the accuracy of our forecasts by using RMSE(Root Mean Square Error)"
   ]
  },
  {
   "cell_type": "code",
   "execution_count": null,
   "id": "af1ab1e2",
   "metadata": {},
   "outputs": [],
   "source": [
    "# Get the real and predicted values\n",
    "value_forecasted = pred.predicted_mean\n",
    "value_truth = df_11216['value']['2019-01-31':]\n",
    "\n",
    "# Compute the root mean square error\n",
    "mse = ((value_forecasted - value_truth) ** 2).mean()\n",
    "print('The Root Mean Squared Error of our forecasts is {}'.format(round(np.sqrt(mse), 2)))"
   ]
  },
  {
   "cell_type": "markdown",
   "id": "78f03593",
   "metadata": {},
   "source": [
    "##  Dynamic Forecasting"
   ]
  },
  {
   "cell_type": "code",
   "execution_count": null,
   "id": "172f639b",
   "metadata": {},
   "outputs": [],
   "source": [
    "# Get dynamic predictions with confidence intervals as above \n",
    "pred_dynamic = output.get_prediction(start=pd.to_datetime('2019-01-31'), dynamic=True, full_results=True)\n",
    "pred_dynamic_conf = pred_dynamic.conf_int()\n",
    "\n",
    "# Plot the dynamic forecast with confidence intervals.\n",
    "ax = df_11216.plot(label='observed', figsize=(20, 15))\n",
    "pred_dynamic.predicted_mean.plot(label='Dynamic Forecast', ax=ax)\n",
    "\n",
    "ax.fill_between(pred_dynamic_conf.index,\n",
    "                pred_dynamic_conf.iloc[:, 0],\n",
    "                pred_dynamic_conf.iloc[:, 1], color='g', alpha=.3)\n",
    "\n",
    "ax.fill_betweenx(ax.get_ylim(), pd.to_datetime('2019-01-31'), value_forecasted.index[-1], alpha=.1, zorder=-1)\n",
    "\n",
    "ax.set_xlabel('Date')\n",
    "ax.set_ylabel('Home Values')\n",
    "\n",
    "plt.legend()\n",
    "plt.show();"
   ]
  },
  {
   "cell_type": "code",
   "execution_count": null,
   "id": "c042d288",
   "metadata": {},
   "outputs": [],
   "source": [
    "value_forecasted = pred_dynamic.predicted_mean\n",
    "value_truth = df_11216['value']['2019-01-31':]\n",
    "\n",
    "# Compute the mean square error\n",
    "mse = ((value_forecasted - value_truth) ** 2).mean()\n",
    "print('The Root Mean Squared Error of our forecasts is {}'.format(round(np.sqrt(mse), 2)))"
   ]
  },
  {
   "cell_type": "markdown",
   "id": "d5a63de2",
   "metadata": {},
   "source": [
    "## Producing and Visualizing Forecasts"
   ]
  },
  {
   "cell_type": "markdown",
   "id": "72df8f4e",
   "metadata": {},
   "source": [
    "THe model is now used to forecast values in the future"
   ]
  },
  {
   "cell_type": "code",
   "execution_count": null,
   "id": "28b0157d",
   "metadata": {},
   "outputs": [],
   "source": [
    "# Get forecast 100 steps ahead in future\n",
    "prediction = output.get_forecast(steps=100)\n",
    "\n",
    "# Get confidence intervals of forecasts\n",
    "pred_conf = prediction.conf_int()"
   ]
  },
  {
   "cell_type": "code",
   "execution_count": null,
   "id": "f28d10a2",
   "metadata": {},
   "outputs": [],
   "source": [
    "# Plot future predictions with confidence intervals\n",
    "ax = df_11216.plot(label='observed', figsize=(20, 15))\n",
    "prediction.predicted_mean.plot(ax=ax, label='Forecast')\n",
    "ax.fill_between(pred_conf.index,\n",
    "                pred_conf.iloc[:, 0],\n",
    "                pred_conf.iloc[:, 1], color='k', alpha=0.25)\n",
    "ax.set_xlabel('Date')\n",
    "ax.set_ylabel('Home Values')\n",
    "\n",
    "plt.legend()\n",
    "plt.show();"
   ]
  },
  {
   "cell_type": "markdown",
   "id": "4e47a039",
   "metadata": {},
   "source": [
    "Both the forecasts and associated confidence interval that we have generated can now be used to further understand the dataset for zipcode 11216 and foresee what to expect. We get less confident as we go more into the future"
   ]
  }
 ],
 "metadata": {
  "kernelspec": {
   "display_name": "project4",
   "language": "python",
   "name": "project4"
  },
  "language_info": {
   "codemirror_mode": {
    "name": "ipython",
    "version": 3
   },
   "file_extension": ".py",
   "mimetype": "text/x-python",
   "name": "python",
   "nbconvert_exporter": "python",
   "pygments_lexer": "ipython3",
   "version": "3.9.7"
  }
 },
 "nbformat": 4,
 "nbformat_minor": 5
}
